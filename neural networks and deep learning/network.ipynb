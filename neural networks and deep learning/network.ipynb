{
 "cells": [
  {
   "cell_type": "code",
   "execution_count": 1,
   "metadata": {
    "collapsed": true
   },
   "outputs": [],
   "source": [
    "import mnist_loader\n",
    "\n",
    "training_data, validation_data, test_data = mnist_loader.load_data_wrapper()"
   ]
  },
  {
   "cell_type": "code",
   "execution_count": 2,
   "metadata": {},
   "outputs": [],
   "source": [
    "import network\n",
    "net = network.Network([784, 30, 10])"
   ]
  },
  {
   "cell_type": "code",
   "execution_count": 3,
   "metadata": {},
   "outputs": [
    {
     "name": "stdout",
     "output_type": "stream",
     "text": [
      "Epoch 0 : 9029 / 10000\n",
      "Epoch 1 : 9199 / 10000\n",
      "Epoch 2 : 9255 / 10000\n",
      "Epoch 3 : 9333 / 10000\n",
      "Epoch 4 : 9352 / 10000\n",
      "Epoch 5 : 9370 / 10000\n",
      "Epoch 6 : 9388 / 10000\n",
      "Epoch 7 : 9393 / 10000\n",
      "Epoch 8 : 9420 / 10000\n",
      "Epoch 9 : 9412 / 10000\n",
      "Epoch 10 : 9416 / 10000\n",
      "Epoch 11 : 9431 / 10000\n",
      "Epoch 12 : 9452 / 10000\n",
      "Epoch 13 : 9437 / 10000\n",
      "Epoch 14 : 9437 / 10000\n",
      "Epoch 15 : 9456 / 10000\n",
      "Epoch 16 : 9466 / 10000\n",
      "Epoch 17 : 9467 / 10000\n",
      "Epoch 18 : 9475 / 10000\n",
      "Epoch 19 : 9457 / 10000\n",
      "Epoch 20 : 9468 / 10000\n",
      "Epoch 21 : 9451 / 10000\n",
      "Epoch 22 : 9478 / 10000\n",
      "Epoch 23 : 9471 / 10000\n",
      "Epoch 24 : 9496 / 10000\n",
      "Epoch 25 : 9472 / 10000\n",
      "Epoch 26 : 9479 / 10000\n",
      "Epoch 27 : 9500 / 10000\n",
      "Epoch 28 : 9463 / 10000\n",
      "Epoch 29 : 9474 / 10000\n"
     ]
    }
   ],
   "source": [
    "net.SGD(training_data, 30, 10, 3.0, test_data=test_data)"
   ]
  },
  {
   "cell_type": "code",
   "execution_count": null,
   "metadata": {
    "collapsed": true
   },
   "outputs": [],
   "source": []
  }
 ],
 "metadata": {
  "kernelspec": {
   "display_name": "Python 3",
   "language": "python",
   "name": "python36"
  },
  "language_info": {
   "codemirror_mode": {
    "name": "ipython",
    "version": 3
   },
   "file_extension": ".py",
   "mimetype": "text/x-python",
   "name": "python",
   "nbconvert_exporter": "python",
   "pygments_lexer": "ipython3",
   "version": "3.6.4"
  }
 },
 "nbformat": 4,
 "nbformat_minor": 2
}

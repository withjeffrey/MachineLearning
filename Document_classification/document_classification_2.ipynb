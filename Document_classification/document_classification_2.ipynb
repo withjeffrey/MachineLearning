{
 "cells": [
  {
   "cell_type": "code",
   "execution_count": 1,
   "metadata": {
    "scrolled": true
   },
   "outputs": [
    {
     "name": "stderr",
     "output_type": "stream",
     "text": [
      "0% [##############################] 100% | ETA: 00:00:00\n",
      "Total time elapsed: 00:01:21\n"
     ]
    }
   ],
   "source": [
    "# 将文本文档组合为一个CSV文件\n",
    "import pyprind\n",
    "import pandas as pd\n",
    "import os\n",
    "pbar = pyprind.ProgBar(19997)\n",
    "\n",
    "labels = {'alt.atheism':1, \n",
    "         'comp.graphics':2,\n",
    "         'comp.os.ms-windows.misc':3,\n",
    "         'comp.sys.ibm.pc.hardware':4,\n",
    "         'comp.sys.mac.hardware':5,\n",
    "         'comp.windows.x':6,\n",
    "         'misc.forsale':7,\n",
    "         'rec.autos':8,\n",
    "         'rec.motorcycles':9,\n",
    "         'rec.sport.baseball':10,\n",
    "         'rec.sport.hockey':11,\n",
    "         'sci.crypt':12,\n",
    "         'sci.electronics':13,\n",
    "         'sci.med':14,\n",
    "         'sci.space':15,\n",
    "         'soc.religion.christian':16,\n",
    "         'talk.politics.guns':17,\n",
    "         'talk.politics.mideast':18,\n",
    "         'talk.politics.misc':19,\n",
    "         'talk.religion.misc':20}\n",
    "df = pd.DataFrame()\n",
    "\n",
    "for l in labels.keys():\n",
    "    path = './20news-19997/20_newsgroups/%s' % l\n",
    "    for file in os.listdir(path):\n",
    "        with open(os.path.join(path, file), 'rb') as infile:  \n",
    "            txt = infile.read()\n",
    "            df = df.append([[txt, labels[l]]], ignore_index=True)\n",
    "            pbar.update()\n",
    "df.columns = ['content', 'category']"
   ]
  },
  {
   "cell_type": "code",
   "execution_count": 2,
   "metadata": {},
   "outputs": [
    {
     "data": {
      "text/html": [
       "<div>\n",
       "<style scoped>\n",
       "    .dataframe tbody tr th:only-of-type {\n",
       "        vertical-align: middle;\n",
       "    }\n",
       "\n",
       "    .dataframe tbody tr th {\n",
       "        vertical-align: top;\n",
       "    }\n",
       "\n",
       "    .dataframe thead th {\n",
       "        text-align: right;\n",
       "    }\n",
       "</style>\n",
       "<table border=\"1\" class=\"dataframe\">\n",
       "  <thead>\n",
       "    <tr style=\"text-align: right;\">\n",
       "      <th></th>\n",
       "      <th>content</th>\n",
       "      <th>category</th>\n",
       "    </tr>\n",
       "  </thead>\n",
       "  <tbody>\n",
       "    <tr>\n",
       "      <th>0</th>\n",
       "      <td>b\"Path: cantaloupe.srv.cs.cmu.edu!crabapple.sr...</td>\n",
       "      <td>6</td>\n",
       "    </tr>\n",
       "    <tr>\n",
       "      <th>1</th>\n",
       "      <td>b'Xref: cantaloupe.srv.cs.cmu.edu sci.med:5897...</td>\n",
       "      <td>14</td>\n",
       "    </tr>\n",
       "    <tr>\n",
       "      <th>2</th>\n",
       "      <td>b'Path: cantaloupe.srv.cs.cmu.edu!magnesium.cl...</td>\n",
       "      <td>17</td>\n",
       "    </tr>\n",
       "  </tbody>\n",
       "</table>\n",
       "</div>"
      ],
      "text/plain": [
       "                                             content  category\n",
       "0  b\"Path: cantaloupe.srv.cs.cmu.edu!crabapple.sr...         6\n",
       "1  b'Xref: cantaloupe.srv.cs.cmu.edu sci.med:5897...        14\n",
       "2  b'Path: cantaloupe.srv.cs.cmu.edu!magnesium.cl...        17"
      ]
     },
     "execution_count": 2,
     "metadata": {},
     "output_type": "execute_result"
    }
   ],
   "source": [
    "import numpy as np\n",
    "np.random.seed(0)\n",
    "df = df.reindex(np.random.permutation(df.index))\n",
    "df.to_csv('./20news-19997/20_newsgroups.csv', index=False)\n",
    "df = pd.read_csv('./20news-19997/20_newsgroups.csv')\n",
    "df.head(3)"
   ]
  },
  {
   "cell_type": "code",
   "execution_count": 3,
   "metadata": {},
   "outputs": [
    {
     "data": {
      "text/plain": [
       "<matplotlib.axes._subplots.AxesSubplot at 0x25c42843c18>"
      ]
     },
     "execution_count": 3,
     "metadata": {},
     "output_type": "execute_result"
    }
   ],
   "source": [
    "#统计训练集和测试集中20种类标的个数\n",
    "df['category'].value_counts().plot(kind='bar')"
   ]
  },
  {
   "cell_type": "code",
   "execution_count": 4,
   "metadata": {},
   "outputs": [
    {
     "data": {
      "text/plain": [
       "[<matplotlib.lines.Line2D at 0x25c42b129e8>]"
      ]
     },
     "execution_count": 4,
     "metadata": {},
     "output_type": "execute_result"
    },
    {
     "data": {
      "image/png": "[encoded data removed]",
      "text/plain": [
       "<Figure size 432x288 with 1 Axes>"
      ]
     },
     "metadata": {},
     "output_type": "display_data"
    }
   ],
   "source": [
    "#统计文本文档的行数\n",
    "import matplotlib.pyplot as plt\n",
    "lines = []\n",
    "\n",
    "for l in labels.keys():\n",
    "    path = './20news-19997/20_newsgroups/%s' % l\n",
    "    for file in os.listdir(path):\n",
    "        with open(os.path.join(path, file), 'rb') as infile:  \n",
    "            lines_txt = len(infile.readlines())\n",
    "            lines.append(lines_txt)\n",
    "            \n",
    "plt.plot(sorted(lines))"
   ]
  },
  {
   "cell_type": "code",
   "execution_count": 5,
   "metadata": {},
   "outputs": [
    {
     "name": "stdout",
     "output_type": "stream",
     "text": [
      "19997\n",
      "35\n"
     ]
    }
   ],
   "source": [
    "#找出列表中位数\n",
    "lst = sorted(lines)\n",
    "print(len(lst))\n",
    "print(lst[len(lst)//2])"
   ]
  },
  {
   "cell_type": "code",
   "execution_count": 6,
   "metadata": {
    "scrolled": true
   },
   "outputs": [
    {
     "data": {
      "text/html": [
       "<div>\n",
       "<style scoped>\n",
       "    .dataframe tbody tr th:only-of-type {\n",
       "        vertical-align: middle;\n",
       "    }\n",
       "\n",
       "    .dataframe tbody tr th {\n",
       "        vertical-align: top;\n",
       "    }\n",
       "\n",
       "    .dataframe thead th {\n",
       "        text-align: right;\n",
       "    }\n",
       "</style>\n",
       "<table border=\"1\" class=\"dataframe\">\n",
       "  <thead>\n",
       "    <tr style=\"text-align: right;\">\n",
       "      <th></th>\n",
       "      <th>content</th>\n",
       "      <th>category</th>\n",
       "    </tr>\n",
       "  </thead>\n",
       "  <tbody>\n",
       "    <tr>\n",
       "      <th>0</th>\n",
       "      <td>b path cantaloupe srv cs cmu edu crabapple srv...</td>\n",
       "      <td>6</td>\n",
       "    </tr>\n",
       "    <tr>\n",
       "      <th>1</th>\n",
       "      <td>b xref cantaloupe srv cs cmu edu sci med 58979...</td>\n",
       "      <td>14</td>\n",
       "    </tr>\n",
       "    <tr>\n",
       "      <th>2</th>\n",
       "      <td>b path cantaloupe srv cs cmu edu magnesium clu...</td>\n",
       "      <td>17</td>\n",
       "    </tr>\n",
       "  </tbody>\n",
       "</table>\n",
       "</div>"
      ],
      "text/plain": [
       "                                             content  category\n",
       "0  b path cantaloupe srv cs cmu edu crabapple srv...         6\n",
       "1  b xref cantaloupe srv cs cmu edu sci med 58979...        14\n",
       "2  b path cantaloupe srv cs cmu edu magnesium clu...        17"
      ]
     },
     "execution_count": 6,
     "metadata": {},
     "output_type": "execute_result"
    }
   ],
   "source": [
    "#清洗文本数据\n",
    "import re\n",
    "def preprocessor(text):\n",
    "    text = re.sub('<[^>]*>', '', text)\n",
    "    emoticons = re.findall('(?::|;|=)(?:-)?(?:\\)|\\(|D|P)', text)\n",
    "    text = re.sub('[\\W]+', ' ', text.lower())\n",
    "    return text\n",
    "\n",
    "df['content'] = df['content'].apply(preprocessor)\n",
    "df.head(3)"
   ]
  },
  {
   "cell_type": "code",
   "execution_count": 7,
   "metadata": {},
   "outputs": [
    {
     "data": {
      "text/plain": [
       "<matplotlib.axes._subplots.AxesSubplot at 0x25c42b54358>"
      ]
     },
     "execution_count": 7,
     "metadata": {},
     "output_type": "execute_result"
    },
    {
     "data": {
      "image/png": "[encoded data removed]",
      "text/plain": [
       "<Figure size 432x288 with 1 Axes>"
      ]
     },
     "metadata": {},
     "output_type": "display_data"
    }
   ],
   "source": [
    "#获取部分数据训练和测试\n",
    "df_1 = pd.DataFrame()\n",
    "df_1 = df\n",
    "df_1.head(3)\n",
    "\n",
    "df_1['category'].value_counts().plot(kind='bar')"
   ]
  },
  {
   "cell_type": "code",
   "execution_count": 8,
   "metadata": {
    "collapsed": true,
    "scrolled": true
   },
   "outputs": [],
   "source": [
    "X = df_1.loc[:, 'content'].values\n",
    "y = df_1.loc[:, 'category'].values\n",
    "\n",
    "# 停用词移除\n",
    "#new_list = []\n",
    "#update_list = []\n",
    "#for i in range(999):\n",
    "#    new_list = tokenizer(X[i])\n",
    "#    for each in new_list:\n",
    "#        if each not in stop:\n",
    "#            update_list.append(each)\n",
    "#    X[i] = \" \".join(update_list)"
   ]
  },
  {
   "cell_type": "code",
   "execution_count": 9,
   "metadata": {
    "scrolled": true
   },
   "outputs": [
    {
     "name": "stderr",
     "output_type": "stream",
     "text": [
      "C:\\Users\\withj\\Anaconda2\\envs\\python36\\lib\\site-packages\\sklearn\\cross_validation.py:41: DeprecationWarning: This module was deprecated in version 0.18 in favor of the model_selection module into which all the refactored classes and functions are moved. Also note that the interface of the new CV iterators are different from that of this module. This module will be removed in 0.20.\n",
      "  \"This module will be removed in 0.20.\", DeprecationWarning)\n",
      "C:\\Users\\withj\\Anaconda2\\envs\\python36\\lib\\site-packages\\gensim\\utils.py:1209: UserWarning: detected Windows; aliasing chunkize to chunkize_serial\n",
      "  warnings.warn(\"detected Windows; aliasing chunkize to chunkize_serial\")\n"
     ]
    },
    {
     "data": {
      "text/plain": [
       "(23627032, 31139970)"
      ]
     },
     "execution_count": 9,
     "metadata": {},
     "output_type": "execute_result"
    }
   ],
   "source": [
    "from sklearn.cross_validation import train_test_split\n",
    "from gensim.models.word2vec import Word2Vec\n",
    "\n",
    "X_train, X_test, y_train, y_test = train_test_split(X, y, test_size=0.2, random_state=0)\n",
    "\n",
    "def cleanText(corpus):\n",
    "    corpus = [z.lower().replace('\\n','').split() for z in corpus]\n",
    "    return corpus\n",
    "\n",
    "X_train = cleanText(X_train)\n",
    "X_test = cleanText(X_test)\n",
    "\n",
    "n_dim = 300\n",
    "news_w2v = Word2Vec(size=n_dim, min_count=10)\n",
    "news_w2v.build_vocab(X_train)\n",
    "\n",
    "news_w2v.train(X_train, total_examples=news_w2v.corpus_count, epochs=news_w2v.epochs)"
   ]
  },
  {
   "cell_type": "code",
   "execution_count": 10,
   "metadata": {},
   "outputs": [
    {
     "name": "stdout",
     "output_type": "stream",
     "text": [
      "[('ncomputer', 0.7031093835830688), ('computing', 0.5895137786865234), ('advanced', 0.5630830526351929), ('silicon', 0.5627012848854065), ('inc', 0.5571417808532715), ('software', 0.5520400404930115), ('lab', 0.5501877069473267), ('consulting', 0.5450396537780762), ('voice', 0.5423088073730469), ('technologies', 0.5408635139465332), ('accelerator', 0.5401817560195923), ('manufacturing', 0.5367072820663452), ('systems', 0.5284115672111511), ('facility', 0.5232654809951782), ('company', 0.51976478099823), ('library', 0.5186460614204407), ('engineering', 0.5128361582756042), ('instruments', 0.5064715147018433), ('products', 0.5059275031089783), ('corporation', 0.5056624412536621)]\n"
     ]
    },
    {
     "name": "stderr",
     "output_type": "stream",
     "text": [
      "C:\\Users\\withj\\Anaconda2\\envs\\python36\\lib\\site-packages\\ipykernel_launcher.py:1: DeprecationWarning: Call to deprecated `most_similar` (Method will be removed in 4.0.0, use self.wv.most_similar() instead).\n",
      "  \"\"\"Entry point for launching an IPython kernel.\n",
      "C:\\Users\\withj\\Anaconda2\\envs\\python36\\lib\\site-packages\\gensim\\matutils.py:737: FutureWarning: Conversion of the second argument of issubdtype from `int` to `np.signedinteger` is deprecated. In future, it will be treated as `np.int32 == np.dtype(int).type`.\n",
      "  if np.issubdtype(vec.dtype, np.int):\n"
     ]
    }
   ],
   "source": [
    "print(news_w2v.most_similar(\"computer\", topn = 20))"
   ]
  },
  {
   "cell_type": "code",
   "execution_count": 11,
   "metadata": {},
   "outputs": [
    {
     "name": "stdout",
     "output_type": "stream",
     "text": [
      "[('conspiracy', 0.796660304069519), ('magick', 0.781158983707428), ('pagan', 0.7483187317848206), ('folklore', 0.6848101019859314), ('psychoactives', 0.6811968088150024), ('del', 0.6780948638916016), ('nliefting', 0.660977303981781), ('sex', 0.6269114017486572), ('religion', 0.6246612071990967), ('kibology', 0.6203559637069702), ('rush', 0.5801657438278198), ('teens', 0.5725789070129395), ('activism', 0.5624344944953918), ('lucio', 0.5571883916854858), ('origins', 0.5566462278366089), ('limbaugh', 0.5525323152542114), ('proxima', 0.5429709553718567), ('personality', 0.5372399687767029), ('abortion', 0.5203955173492432), ('bondage', 0.5192568302154541)]\n"
     ]
    },
    {
     "name": "stderr",
     "output_type": "stream",
     "text": [
      "C:\\Users\\withj\\Anaconda2\\envs\\python36\\lib\\site-packages\\ipykernel_launcher.py:1: DeprecationWarning: Call to deprecated `most_similar` (Method will be removed in 4.0.0, use self.wv.most_similar() instead).\n",
      "  \"\"\"Entry point for launching an IPython kernel.\n",
      "C:\\Users\\withj\\Anaconda2\\envs\\python36\\lib\\site-packages\\gensim\\matutils.py:737: FutureWarning: Conversion of the second argument of issubdtype from `int` to `np.signedinteger` is deprecated. In future, it will be treated as `np.int32 == np.dtype(int).type`.\n",
      "  if np.issubdtype(vec.dtype, np.int):\n"
     ]
    }
   ],
   "source": [
    "print(news_w2v.most_similar(\"atheism\", topn = 20))"
   ]
  },
  {
   "cell_type": "code",
   "execution_count": 12,
   "metadata": {
    "collapsed": true
   },
   "outputs": [],
   "source": [
    "def buildWordVector(text, size):\n",
    "    vec = np.zeros(size).reshape((1, size))\n",
    "    count = 0.\n",
    "    for word in text:\n",
    "        try:\n",
    "            vec += news_w2v[word].reshape((1, size))\n",
    "            count += 1.\n",
    "        except KeyError:\n",
    "            continue\n",
    "    if count!= 0:\n",
    "        vec /= count\n",
    "    return vec"
   ]
  },
  {
   "cell_type": "code",
   "execution_count": 13,
   "metadata": {},
   "outputs": [
    {
     "name": "stderr",
     "output_type": "stream",
     "text": [
      "C:\\Users\\withj\\Anaconda2\\envs\\python36\\lib\\site-packages\\ipykernel_launcher.py:6: DeprecationWarning: Call to deprecated `__getitem__` (Method will be removed in 4.0.0, use self.wv.__getitem__() instead).\n",
      "  \n"
     ]
    },
    {
     "data": {
      "text/plain": [
       "(5884281, 7779955)"
      ]
     },
     "execution_count": 13,
     "metadata": {},
     "output_type": "execute_result"
    }
   ],
   "source": [
    "from sklearn.preprocessing import scale\n",
    "train_vecs = np.concatenate([buildWordVector(z, n_dim) for z in X_train])\n",
    "train_vecs = scale(train_vecs)\n",
    "\n",
    "news_w2v.train(X_test, total_examples=news_w2v.corpus_count, epochs=news_w2v.epochs)"
   ]
  },
  {
   "cell_type": "code",
   "execution_count": 14,
   "metadata": {},
   "outputs": [
    {
     "name": "stderr",
     "output_type": "stream",
     "text": [
      "C:\\Users\\withj\\Anaconda2\\envs\\python36\\lib\\site-packages\\ipykernel_launcher.py:6: DeprecationWarning: Call to deprecated `__getitem__` (Method will be removed in 4.0.0, use self.wv.__getitem__() instead).\n",
      "  \n"
     ]
    }
   ],
   "source": [
    "test_vecs = np.concatenate([buildWordVector(z, n_dim) for z in X_test])\n",
    "test_vecs = scale(test_vecs)"
   ]
  },
  {
   "cell_type": "code",
   "execution_count": 23,
   "metadata": {
    "scrolled": true
   },
   "outputs": [
    {
     "name": "stderr",
     "output_type": "stream",
     "text": [
      "C:\\Users\\withj\\Anaconda2\\envs\\python36\\lib\\site-packages\\sklearn\\linear_model\\stochastic_gradient.py:128: FutureWarning: max_iter and tol parameters have been added in <class 'sklearn.linear_model.stochastic_gradient.SGDClassifier'> in 0.19. If both are left unset, they default to max_iter=5 and tol=None. If tol is not None, max_iter defaults to max_iter=1000. From 0.21, default max_iter will be 1000, and default tol will be 1e-3.\n",
      "  \"and default tol will be 1e-3.\" % type(self), FutureWarning)\n"
     ]
    },
    {
     "name": "stdout",
     "output_type": "stream",
     "text": [
      "Train time: 8.441001892089844\n",
      "Test accuracy: 0.74\n"
     ]
    }
   ],
   "source": [
    "from sklearn.linear_model import SGDClassifier\n",
    "from time import time\n",
    "lr = SGDClassifier(loss='log', penalty='l1')\n",
    "start = time()\n",
    "lr.fit(train_vecs, y_train)\n",
    "end = time()\n",
    "print(\"Train time:\", end-start)\n",
    "print('Test accuracy: %.2f' %lr.score(test_vecs, y_test))"
   ]
  },
  {
   "cell_type": "code",
   "execution_count": 19,
   "metadata": {},
   "outputs": [
    {
     "name": "stdout",
     "output_type": "stream",
     "text": [
      "train time: 0.1887965202331543\n",
      "Accuracy: 0.40\n",
      "test time: 0.6305866241455078\n"
     ]
    }
   ],
   "source": [
    "# 使用朴素贝叶斯模型\n",
    "from sklearn.naive_bayes import GaussianNB\n",
    "from sklearn.metrics import accuracy_score\n",
    "from time import time\n",
    "\n",
    "clf = GaussianNB()\n",
    "start = time()\n",
    "clf.fit(train_vecs, y_train)\n",
    "end = time()\n",
    "train_time = end - start\n",
    "print(\"train time:\", train_time)\n",
    "\n",
    "start = time()\n",
    "print('Accuracy: %.2f' % clf.score(test_vecs, y_test))\n",
    "end = time()\n",
    "test_time = end - start\n",
    "print(\"test time:\", test_time)"
   ]
  },
  {
   "cell_type": "code",
   "execution_count": 20,
   "metadata": {},
   "outputs": [
    {
     "name": "stdout",
     "output_type": "stream",
     "text": [
      "train time: 131.06504797935486\n",
      "Parameter 'max_depth' is 6 for the optimal model.\n"
     ]
    }
   ],
   "source": [
    "# 使用决策树模型训练\n",
    "from sklearn.model_selection import KFold\n",
    "from sklearn.tree import DecisionTreeRegressor\n",
    "from sklearn.metrics import make_scorer\n",
    "from sklearn.metrics import r2_score\n",
    "from sklearn.model_selection import GridSearchCV\n",
    "\n",
    "\n",
    "def performance_metric(y_true, y_predict):\n",
    "    score = r2_score(y_true, y_predict)\n",
    "    return score\n",
    "\n",
    "def fit_model(X, y):\n",
    "    cross_validator = KFold(n_splits=3)\n",
    "    regressor = DecisionTreeRegressor()\n",
    "    params = {'max_depth': [1,2,3,4,5,6,7,8,9,10]}\n",
    "    scoring_fnc = make_scorer(performance_metric)\n",
    "    grid = GridSearchCV(estimator=regressor,\n",
    "                       param_grid=params,\n",
    "                       scoring=scoring_fnc,\n",
    "                       cv=cross_validator)\n",
    "    grid = grid.fit(X, y)\n",
    "    return grid.best_estimator_\n",
    "\n",
    "start = time()\n",
    "optimal_reg = fit_model(train_vecs, y_train)\n",
    "end = time()\n",
    "train_time = end - start\n",
    "print(\"train time:\", train_time)\n",
    "print(\"Parameter 'max_depth' is {} for the optimal model.\".format(optimal_reg.get_params()['max_depth']))"
   ]
  },
  {
   "cell_type": "code",
   "execution_count": 21,
   "metadata": {},
   "outputs": [
    {
     "name": "stdout",
     "output_type": "stream",
     "text": [
      "Optimal model has R^2 score 0.44 on test data\n",
      "0.4380134532133847\n"
     ]
    }
   ],
   "source": [
    "from sklearn.metrics import classification_report\n",
    "y_pred = optimal_reg.predict(test_vecs)\n",
    "r2 = performance_metric(y_test, y_pred)\n",
    "print(\"Optimal model has R^2 score {:,.2f} on test data\".format(r2))\n",
    "print(optimal_reg.score(test_vecs, y_test))"
   ]
  },
  {
   "cell_type": "code",
   "execution_count": 22,
   "metadata": {},
   "outputs": [
    {
     "name": "stdout",
     "output_type": "stream",
     "text": [
      "train_time: 80.99361681938171\n",
      "accuracy: 0.744\n"
     ]
    }
   ],
   "source": [
    "# 使用支持向量机\n",
    "from sklearn.metrics import accuracy_score\n",
    "from time import time\n",
    "from sklearn.svm import SVC\n",
    "clf_svc = SVC(kernel='linear',random_state=0)\n",
    "\n",
    "start = time()\n",
    "clf_svc.fit(train_vecs, y_train)\n",
    "end = time()\n",
    "train_time = end - start\n",
    "print('train_time:', train_time)\n",
    "\n",
    "y_pred2 = clf_svc.predict(test_vecs)\n",
    "print('accuracy:', accuracy_score(y_test, y_pred2))"
   ]
  },
  {
   "cell_type": "code",
   "execution_count": null,
   "metadata": {
    "collapsed": true
   },
   "outputs": [],
   "source": []
  }
 ],
 "metadata": {
  "kernelspec": {
   "display_name": "Python 3",
   "language": "python",
   "name": "python36"
  },
  "language_info": {
   "codemirror_mode": {
    "name": "ipython",
    "version": 3
   },
   "file_extension": ".py",
   "mimetype": "text/x-python",
   "name": "python",
   "nbconvert_exporter": "python",
   "pygments_lexer": "ipython3",
   "version": "3.6.4"
  }
 },
 "nbformat": 4,
 "nbformat_minor": 2
}

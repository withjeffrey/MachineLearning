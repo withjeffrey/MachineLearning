{
 "cells": [
  {
   "cell_type": "code",
   "execution_count": 1,
   "metadata": {
    "scrolled": true
   },
   "outputs": [
    {
     "name": "stderr",
     "output_type": "stream",
     "text": [
      "0% [##############################] 100% | ETA: 00:00:00\n",
      "Total time elapsed: 00:01:16\n"
     ]
    }
   ],
   "source": [
    "# 将文本文档组合为一个CSV文件\n",
    "import pyprind\n",
    "import pandas as pd\n",
    "import os\n",
    "pbar = pyprind.ProgBar(19997)\n",
    "\n",
    "labels = {'alt.atheism':1, \n",
    "         'comp.graphics':2,\n",
    "         'comp.os.ms-windows.misc':3,\n",
    "         'comp.sys.ibm.pc.hardware':4,\n",
    "         'comp.sys.mac.hardware':5,\n",
    "         'comp.windows.x':6,\n",
    "         'misc.forsale':7,\n",
    "         'rec.autos':8,\n",
    "         'rec.motorcycles':9,\n",
    "         'rec.sport.baseball':10,\n",
    "         'rec.sport.hockey':11,\n",
    "         'sci.crypt':12,\n",
    "         'sci.electronics':13,\n",
    "         'sci.med':14,\n",
    "         'sci.space':15,\n",
    "         'soc.religion.christian':16,\n",
    "         'talk.politics.guns':17,\n",
    "         'talk.politics.mideast':18,\n",
    "         'talk.politics.misc':19,\n",
    "         'talk.religion.misc':20}\n",
    "df = pd.DataFrame()\n",
    "\n",
    "for l in labels.keys():\n",
    "    path = './20news-19997/20_newsgroups/%s' % l\n",
    "    for file in os.listdir(path):\n",
    "        with open(os.path.join(path, file), 'rb') as infile:  \n",
    "            txt = infile.read()\n",
    "            df = df.append([[txt, labels[l]]], ignore_index=True)\n",
    "            pbar.update()\n",
    "df.columns = ['content', 'category']"
   ]
  },
  {
   "cell_type": "code",
   "execution_count": 2,
   "metadata": {},
   "outputs": [
    {
     "data": {
      "text/html": [
       "<div>\n",
       "<style scoped>\n",
       "    .dataframe tbody tr th:only-of-type {\n",
       "        vertical-align: middle;\n",
       "    }\n",
       "\n",
       "    .dataframe tbody tr th {\n",
       "        vertical-align: top;\n",
       "    }\n",
       "\n",
       "    .dataframe thead th {\n",
       "        text-align: right;\n",
       "    }\n",
       "</style>\n",
       "<table border=\"1\" class=\"dataframe\">\n",
       "  <thead>\n",
       "    <tr style=\"text-align: right;\">\n",
       "      <th></th>\n",
       "      <th>content</th>\n",
       "      <th>category</th>\n",
       "    </tr>\n",
       "  </thead>\n",
       "  <tbody>\n",
       "    <tr>\n",
       "      <th>0</th>\n",
       "      <td>b\"Path: cantaloupe.srv.cs.cmu.edu!crabapple.sr...</td>\n",
       "      <td>6</td>\n",
       "    </tr>\n",
       "    <tr>\n",
       "      <th>1</th>\n",
       "      <td>b'Xref: cantaloupe.srv.cs.cmu.edu sci.med:5897...</td>\n",
       "      <td>14</td>\n",
       "    </tr>\n",
       "    <tr>\n",
       "      <th>2</th>\n",
       "      <td>b'Path: cantaloupe.srv.cs.cmu.edu!magnesium.cl...</td>\n",
       "      <td>17</td>\n",
       "    </tr>\n",
       "  </tbody>\n",
       "</table>\n",
       "</div>"
      ],
      "text/plain": [
       "                                             content  category\n",
       "0  b\"Path: cantaloupe.srv.cs.cmu.edu!crabapple.sr...         6\n",
       "1  b'Xref: cantaloupe.srv.cs.cmu.edu sci.med:5897...        14\n",
       "2  b'Path: cantaloupe.srv.cs.cmu.edu!magnesium.cl...        17"
      ]
     },
     "execution_count": 2,
     "metadata": {},
     "output_type": "execute_result"
    }
   ],
   "source": [
    "import numpy as np\n",
    "np.random.seed(0)\n",
    "df = df.reindex(np.random.permutation(df.index))\n",
    "df.to_csv('./20news-19997/20_newsgroups.csv', index=False)\n",
    "df = pd.read_csv('./20news-19997/20_newsgroups.csv')\n",
    "df.head(3)"
   ]
  },
  {
   "cell_type": "code",
   "execution_count": 3,
   "metadata": {
    "scrolled": true
   },
   "outputs": [
    {
     "data": {
      "text/plain": [
       "<Figure size 640x480 with 1 Axes>"
      ]
     },
     "metadata": {},
     "output_type": "display_data"
    }
   ],
   "source": [
    "import matplotlib.pyplot as plt\n",
    "#统计训练集和测试集中20种类标的个数\n",
    "df['category'].value_counts().plot(kind='bar')\n",
    "plt.xlabel('Category')\n",
    "plt.ylabel('Text Quantity')\n",
    "plt.ylim([0,1100])\n",
    "plt.show()"
   ]
  },
  {
   "cell_type": "code",
   "execution_count": 4,
   "metadata": {},
   "outputs": [
    {
     "data": {
      "image/png": "[encoded data removed]",
      "text/plain": [
       "<Figure size 432x288 with 1 Axes>"
      ]
     },
     "metadata": {},
     "output_type": "display_data"
    }
   ],
   "source": [
    "#统计文本文档的行数\n",
    "import matplotlib.pyplot as plt\n",
    "lines = []\n",
    "\n",
    "for l in labels.keys():\n",
    "    path = './20news-19997/20_newsgroups/%s' % l\n",
    "    for file in os.listdir(path):\n",
    "        with open(os.path.join(path, file), 'rb') as infile:  \n",
    "            lines_txt = len(infile.readlines())\n",
    "            lines.append(lines_txt)\n",
    "            \n",
    "plt.plot(sorted(lines), label='Text Lines')\n",
    "plt.grid()\n",
    "plt.xlabel('Text Quantity')\n",
    "plt.ylabel('Text Lines')\n",
    "plt.legend(loc='upper left')\n",
    "plt.ylim([-100,3000])\n",
    "plt.show()"
   ]
  },
  {
   "cell_type": "code",
   "execution_count": 5,
   "metadata": {},
   "outputs": [
    {
     "name": "stdout",
     "output_type": "stream",
     "text": [
      "19997\n",
      "35\n"
     ]
    }
   ],
   "source": [
    "#找出列表中位数\n",
    "lst = sorted(lines)\n",
    "print(len(lst))\n",
    "print(lst[len(lst)//2])"
   ]
  },
  {
   "cell_type": "code",
   "execution_count": 6,
   "metadata": {
    "scrolled": true
   },
   "outputs": [
    {
     "data": {
      "text/html": [
       "<div>\n",
       "<style scoped>\n",
       "    .dataframe tbody tr th:only-of-type {\n",
       "        vertical-align: middle;\n",
       "    }\n",
       "\n",
       "    .dataframe tbody tr th {\n",
       "        vertical-align: top;\n",
       "    }\n",
       "\n",
       "    .dataframe thead th {\n",
       "        text-align: right;\n",
       "    }\n",
       "</style>\n",
       "<table border=\"1\" class=\"dataframe\">\n",
       "  <thead>\n",
       "    <tr style=\"text-align: right;\">\n",
       "      <th></th>\n",
       "      <th>content</th>\n",
       "      <th>category</th>\n",
       "    </tr>\n",
       "  </thead>\n",
       "  <tbody>\n",
       "    <tr>\n",
       "      <th>0</th>\n",
       "      <td>b path cantaloupe srv cs cmu edu crabapple srv...</td>\n",
       "      <td>6</td>\n",
       "    </tr>\n",
       "    <tr>\n",
       "      <th>1</th>\n",
       "      <td>b xref cantaloupe srv cs cmu edu sci med 58979...</td>\n",
       "      <td>14</td>\n",
       "    </tr>\n",
       "    <tr>\n",
       "      <th>2</th>\n",
       "      <td>b path cantaloupe srv cs cmu edu magnesium clu...</td>\n",
       "      <td>17</td>\n",
       "    </tr>\n",
       "  </tbody>\n",
       "</table>\n",
       "</div>"
      ],
      "text/plain": [
       "                                             content  category\n",
       "0  b path cantaloupe srv cs cmu edu crabapple srv...         6\n",
       "1  b xref cantaloupe srv cs cmu edu sci med 58979...        14\n",
       "2  b path cantaloupe srv cs cmu edu magnesium clu...        17"
      ]
     },
     "execution_count": 6,
     "metadata": {},
     "output_type": "execute_result"
    }
   ],
   "source": [
    "#清洗文本数据\n",
    "import re\n",
    "def preprocessor(text):\n",
    "    text = re.sub('<[^>]*>', '', text)\n",
    "    emoticons = re.findall('(?::|;|=)(?:-)?(?:\\)|\\(|D|P)', text)\n",
    "    text = re.sub('[\\W]+', ' ', text.lower())\n",
    "    return text\n",
    "\n",
    "df['content'] = df['content'].apply(preprocessor)\n",
    "df.head(3)"
   ]
  },
  {
   "cell_type": "code",
   "execution_count": 7,
   "metadata": {},
   "outputs": [
    {
     "name": "stdout",
     "output_type": "stream",
     "text": [
      "15    1000\n",
      "14    1000\n",
      "1     1000\n",
      "17    1000\n",
      "2     1000\n",
      "18    1000\n",
      "3     1000\n",
      "19    1000\n",
      "4     1000\n",
      "20    1000\n",
      "5     1000\n",
      "6     1000\n",
      "7     1000\n",
      "8     1000\n",
      "9     1000\n",
      "10    1000\n",
      "11    1000\n",
      "12    1000\n",
      "13    1000\n",
      "16     997\n",
      "Name: category, dtype: int64\n"
     ]
    },
    {
     "data": {
      "image/png": "[encoded data removed]",
      "text/plain": [
       "<Figure size 432x288 with 1 Axes>"
      ]
     },
     "metadata": {},
     "output_type": "display_data"
    }
   ],
   "source": [
    "#获取部分数据训练和测试\n",
    "df_1 = pd.DataFrame()\n",
    "df_1 = df\n",
    "df_1.head(3)\n",
    "\n",
    "df_1['category'].value_counts().plot(kind='bar')\n",
    "print(df_1['category'].value_counts())\n",
    "#plt.grid()\n",
    "plt.xlabel('Category')\n",
    "plt.ylabel('Text Quantity')\n",
    "plt.ylim([0,1200])\n",
    "plt.show()"
   ]
  },
  {
   "cell_type": "code",
   "execution_count": 8,
   "metadata": {
    "collapsed": true
   },
   "outputs": [],
   "source": [
    "#标记文档模块\n",
    "def tokenizer(text):\n",
    "    return text.split()\n",
    "\n",
    "from nltk.stem.porter import PorterStemmer\n",
    "porter = PorterStemmer()\n",
    "def tokenizer_porter(text):\n",
    "    return [porter.stem(word) for word in text.split()]"
   ]
  },
  {
   "cell_type": "code",
   "execution_count": 9,
   "metadata": {},
   "outputs": [
    {
     "name": "stdout",
     "output_type": "stream",
     "text": [
      "[nltk_data] Downloading package stopwords to\n",
      "[nltk_data]     C:\\Users\\withj\\AppData\\Roaming\\nltk_data...\n",
      "[nltk_data]   Package stopwords is already up-to-date!\n"
     ]
    }
   ],
   "source": [
    "#停用词移除模块\n",
    "import nltk\n",
    "nltk.download('stopwords')\n",
    "\n",
    "from nltk.corpus import stopwords\n",
    "stop = stopwords.words('english')"
   ]
  },
  {
   "cell_type": "code",
   "execution_count": 10,
   "metadata": {
    "collapsed": true,
    "scrolled": true
   },
   "outputs": [],
   "source": [
    "X = df_1.loc[:, 'content'].values\n",
    "y = df_1.loc[:, 'category'].values\n",
    "\n",
    "from sklearn.feature_extraction.text import TfidfVectorizer\n",
    "\n",
    "# 停用词移除\n",
    "new_list = []\n",
    "update_list = []\n",
    "for i in range(99):\n",
    "    new_list = tokenizer(X[i])\n",
    "    for each in new_list:\n",
    "        if each not in stop:\n",
    "            update_list.append(each)\n",
    "    X[i] = \" \".join(update_list)\n",
    "    \n",
    "# 词袋模型\n",
    "tfidf = TfidfVectorizer(strip_accents=None,\n",
    "                       lowercase=False,\n",
    "                       preprocessor=None)\n",
    "X = tfidf.fit_transform(X)"
   ]
  },
  {
   "cell_type": "code",
   "execution_count": 23,
   "metadata": {},
   "outputs": [],
   "source": [
    "# 分割训练集和测试集\n",
    "from sklearn.cross_validation import train_test_split\n",
    "X_train, X_test, y_train, y_test = train_test_split(X, y, test_size=0.3, random_state=0)"
   ]
  },
  {
   "cell_type": "code",
   "execution_count": 24,
   "metadata": {},
   "outputs": [
    {
     "name": "stdout",
     "output_type": "stream",
     "text": [
      "train time: 0.43372368812561035\n",
      "Accuracy: 0.88\n",
      "test time: 0.015635967254638672\n"
     ]
    }
   ],
   "source": [
    "# 使用朴素贝叶斯模型alpha=0.01\n",
    "from sklearn.naive_bayes import MultinomialNB\n",
    "from sklearn.metrics import accuracy_score\n",
    "from time import time\n",
    "\n",
    "clf = MultinomialNB(alpha=0.01)\n",
    "start = time()\n",
    "clf.fit(X_train, y_train)\n",
    "end = time()\n",
    "train_time = end - start\n",
    "print(\"train time:\", train_time)\n",
    "\n",
    "y_pred = clf.predict(X_test)\n",
    "start = time()\n",
    "print('Accuracy: %.2f' % accuracy_score(y_test, y_pred))\n",
    "end = time()\n",
    "test_time = end - start\n",
    "print(\"test time:\", test_time)"
   ]
  },
  {
   "cell_type": "code",
   "execution_count": 25,
   "metadata": {},
   "outputs": [
    {
     "name": "stdout",
     "output_type": "stream",
     "text": [
      "train time: 0.4360380172729492\n",
      "Accuracy: 0.89\n",
      "test time: 0.0\n"
     ]
    }
   ],
   "source": [
    "# 使用朴素贝叶斯模型alpha=0.1\n",
    "from sklearn.naive_bayes import MultinomialNB\n",
    "from sklearn.metrics import accuracy_score\n",
    "from time import time\n",
    "\n",
    "clf = MultinomialNB(alpha=0.1)\n",
    "start = time()\n",
    "clf.fit(X_train, y_train)\n",
    "end = time()\n",
    "train_time = end - start\n",
    "print(\"train time:\", train_time)\n",
    "\n",
    "y_pred = clf.predict(X_test)\n",
    "start = time()\n",
    "print('Accuracy: %.2f' % accuracy_score(y_test, y_pred))\n",
    "end = time()\n",
    "test_time = end - start\n",
    "print(\"test time:\", test_time)"
   ]
  },
  {
   "cell_type": "code",
   "execution_count": 26,
   "metadata": {},
   "outputs": [
    {
     "name": "stdout",
     "output_type": "stream",
     "text": [
      "train time: 0.434802770614624\n",
      "Accuracy: 0.88\n",
      "test time: 0.0\n"
     ]
    }
   ],
   "source": [
    "# 使用朴素贝叶斯模型alpha=1\n",
    "from sklearn.naive_bayes import MultinomialNB\n",
    "from sklearn.metrics import accuracy_score\n",
    "from time import time\n",
    "\n",
    "clf = MultinomialNB(alpha=1)\n",
    "start = time()\n",
    "clf.fit(X_train, y_train)\n",
    "end = time()\n",
    "train_time = end - start\n",
    "print(\"train time:\", train_time)\n",
    "\n",
    "y_pred = clf.predict(X_test)\n",
    "start = time()\n",
    "print('Accuracy: %.2f' % accuracy_score(y_test, y_pred))\n",
    "end = time()\n",
    "test_time = end - start\n",
    "print(\"test time:\", test_time)"
   ]
  },
  {
   "cell_type": "code",
   "execution_count": 27,
   "metadata": {},
   "outputs": [
    {
     "name": "stdout",
     "output_type": "stream",
     "text": [
      "train time: 0.43963098526000977\n",
      "Accuracy: 0.83\n",
      "test time: 0.0\n"
     ]
    }
   ],
   "source": [
    "# 使用朴素贝叶斯模型alpha=10\n",
    "from sklearn.naive_bayes import MultinomialNB\n",
    "from sklearn.metrics import accuracy_score\n",
    "from time import time\n",
    "\n",
    "clf = MultinomialNB(alpha=10)\n",
    "start = time()\n",
    "clf.fit(X_train, y_train)\n",
    "end = time()\n",
    "train_time = end - start\n",
    "print(\"train time:\", train_time)\n",
    "\n",
    "y_pred = clf.predict(X_test)\n",
    "start = time()\n",
    "print('Accuracy: %.2f' % accuracy_score(y_test, y_pred))\n",
    "end = time()\n",
    "test_time = end - start\n",
    "print(\"test time:\", test_time)"
   ]
  },
  {
   "cell_type": "code",
   "execution_count": 28,
   "metadata": {},
   "outputs": [
    {
     "name": "stderr",
     "output_type": "stream",
     "text": [
      "C:\\Users\\withj\\Anaconda2\\envs\\python36\\lib\\site-packages\\sklearn\\learning_curve.py:22: DeprecationWarning: This module was deprecated in version 0.18 in favor of the model_selection module into which all the functions are moved. This module will be removed in 0.20\n",
      "  DeprecationWarning)\n"
     ]
    },
    {
     "data": {
      "image/png": "[encoded data removed]",
      "text/plain": [
       "<Figure size 432x288 with 1 Axes>"
      ]
     },
     "metadata": {},
     "output_type": "display_data"
    },
    {
     "data": {
      "image/png": "[encoded data removed]",
      "text/plain": [
       "<Figure size 432x288 with 1 Axes>"
      ]
     },
     "metadata": {},
     "output_type": "display_data"
    }
   ],
   "source": [
    "# 学习曲线Learning Curve\n",
    "# 验证曲线validation Curve\n",
    "from sklearn.cross_validation import train_test_split\n",
    "import matplotlib.pyplot as plt\n",
    "from sklearn.learning_curve import learning_curve\n",
    "from sklearn.learning_curve import validation_curve\n",
    "\n",
    "# 学习曲线\n",
    "train_sizes,train_scores,test_scores=learning_curve(estimator=MultinomialNB(),X=X_train,y=y_train,train_sizes=np.linspace(0.1,1.0,10),cv=10,n_jobs=1)\n",
    "\n",
    "# 统计结果\n",
    "train_mean= np.mean(train_scores,axis=1)\n",
    "train_std = np.std(train_scores,axis=1)\n",
    "test_mean =np.mean(test_scores,axis=1)\n",
    "test_std=np.std(test_scores,axis=1)\n",
    "\n",
    "# 绘制效果\n",
    "plt.plot(train_sizes,train_mean,color='blue',marker='o',markersize=5,label='training accuracy')\n",
    "plt.fill_between(train_sizes,train_mean+train_std,train_mean-train_std,alpha=0.15,color='blue')\n",
    "plt.plot(train_sizes,test_mean,color='green',linestyle='--',marker='s',markersize=5,label='test accuracy')\n",
    "plt.fill_between(train_sizes,test_mean+test_std,test_mean-test_std,alpha=0.15,color='green')\n",
    "plt.grid()\n",
    "plt.xlabel('Number of training samples')\n",
    "plt.ylabel('Accuracy')\n",
    "plt.legend(loc='lower right')\n",
    "plt.ylim([0.8,1.0])\n",
    "plt.show()\n",
    "\n",
    "# 验证曲线\n",
    "param_range=[0.001,0.01,0.1,1.0,10.0,100.0]\n",
    "# 10折，验证正则化参数C\n",
    "train_scores,test_scores =validation_curve(estimator=MultinomialNB(),X=X_train,y=y_train,param_name='alpha',param_range=param_range,cv=10)\n",
    "#统计结果\n",
    "train_mean= np.mean(train_scores,axis=1)\n",
    "train_std = np.std(train_scores,axis=1)\n",
    "test_mean =np.mean(test_scores,axis=1)\n",
    "test_std=np.std(test_scores,axis=1)\n",
    "plt.plot(param_range,train_mean,color='blue',marker='o',markersize=5,label='training accuracy')\n",
    "plt.fill_between(param_range,train_mean+train_std,train_mean-train_std,alpha=0.15,color='blue')\n",
    "plt.plot(param_range,test_mean,color='green',linestyle='--',marker='s',markersize=5,label='test accuracy')\n",
    "plt.fill_between(param_range,test_mean+test_std,test_mean-test_std,alpha=0.15,color='green')\n",
    "plt.grid()\n",
    "plt.xscale('log')\n",
    "plt.xlabel('Parameter alpha')\n",
    "plt.ylabel('Accuracy')\n",
    "plt.legend(loc='lower right')\n",
    "plt.ylim([0.8,1.0])\n",
    "plt.show()"
   ]
  },
  {
   "cell_type": "code",
   "execution_count": 29,
   "metadata": {},
   "outputs": [
    {
     "name": "stdout",
     "output_type": "stream",
     "text": [
      "train time: 198.97408986091614\n",
      "Parameter 'max_depth' is 6 for the optimal model.\n",
      "accuracy: Predictions have an accuracy of 8.13%.\n",
      "test time: 0.03327059745788574\n"
     ]
    }
   ],
   "source": [
    "# 使用决策树模型训练\n",
    "from sklearn.model_selection import KFold\n",
    "from sklearn.tree import DecisionTreeRegressor\n",
    "from sklearn.metrics import make_scorer\n",
    "from sklearn.metrics import r2_score\n",
    "from sklearn.model_selection import GridSearchCV\n",
    "from time import time\n",
    "\n",
    "def performance_metric(y_true, y_predict):\n",
    "    score = r2_score(y_true, y_predict)\n",
    "    return score\n",
    "\n",
    "def fit_model(X, y):\n",
    "    cross_validator = KFold(n_splits=3)\n",
    "    regressor = DecisionTreeRegressor()\n",
    "    params = {'max_depth': [1,2,3,4,5,6,7,8,9,10]}\n",
    "    scoring_fnc = make_scorer(performance_metric)\n",
    "    grid = GridSearchCV(estimator=regressor,\n",
    "                       param_grid=params,\n",
    "                       scoring=scoring_fnc,\n",
    "                       cv=cross_validator)\n",
    "    grid = grid.fit(X, y)\n",
    "    return grid.best_estimator_\n",
    "\n",
    "start = time() # 获得程序开始时间\n",
    "optimal_reg = fit_model(X_train, y_train)\n",
    "end = time() # 获得程序结束时间\n",
    "train_time = end - start\n",
    "print(\"train time:\", train_time)\n",
    "print(\"Parameter 'max_depth' is {} for the optimal model.\".format(optimal_reg.get_params()['max_depth']))\n",
    "\n",
    "y_pred = optimal_reg.predict(X_test)\n",
    "\n",
    "def accuracy_score(truth, pred):\n",
    "    \"\"\" 返回 pred 相对于 truth 的准确率 \"\"\"\n",
    "    # 确保预测的数量与结果的数量一致\n",
    "    if len(truth) == len(pred): \n",
    "        # 计算预测准确率（百分比）\n",
    "        n = 0\n",
    "        for i in range(len(truth)):\n",
    "            if truth[i] == pred[i]:\n",
    "                n += 1\n",
    "        return \"Predictions have an accuracy of {:.2f}%.\".format(n / len(truth) *100)\n",
    "    else:\n",
    "        return \"Number of predictions does not match number of outcomes!\"\n",
    "\n",
    "start = time()\n",
    "print(\"accuracy:\", accuracy_score(y_test, y_pred))\n",
    "end = time()\n",
    "test_time = end - start\n",
    "print(\"test time:\", test_time)"
   ]
  },
  {
   "cell_type": "code",
   "execution_count": 30,
   "metadata": {},
   "outputs": [
    {
     "name": "stdout",
     "output_type": "stream",
     "text": [
      "train time: 7.39005446434021\n",
      "accuracy: Predictions have an accuracy of 8.13%.\n",
      "test time: 0.03170633316040039\n"
     ]
    }
   ],
   "source": [
    "# 使用决策树模型训练\n",
    "from sklearn.tree import DecisionTreeRegressor\n",
    "from sklearn.metrics import make_scorer\n",
    "from sklearn.metrics import r2_score\n",
    "from time import time\n",
    "\n",
    "def performance_metric(y_true, y_predict):\n",
    "    score = r2_score(y_true, y_predict)\n",
    "    return score\n",
    "\n",
    "start = time() # 获得程序开始时间\n",
    "clf = DecisionTreeRegressor(max_depth=5)\n",
    "clf.fit(X_train, y_train)\n",
    "end = time() # 获得程序结束时间\n",
    "train_time = end - start\n",
    "print(\"train time:\", train_time)\n",
    "\n",
    "y_pred = optimal_reg.predict(X_test)\n",
    "\n",
    "def accuracy_score(truth, pred):\n",
    "    \"\"\" 返回 pred 相对于 truth 的准确率 \"\"\"\n",
    "    # 确保预测的数量与结果的数量一致\n",
    "    if len(truth) == len(pred): \n",
    "        # 计算预测准确率（百分比）\n",
    "        n = 0\n",
    "        for i in range(len(truth)):\n",
    "            if truth[i] == pred[i]:\n",
    "                n += 1\n",
    "        return \"Predictions have an accuracy of {:.2f}%.\".format(n / len(truth) *100)\n",
    "    else:\n",
    "        return \"Number of predictions does not match number of outcomes!\"\n",
    "\n",
    "start = time()\n",
    "print(\"accuracy:\", accuracy_score(y_test, y_pred))\n",
    "end = time()\n",
    "test_time = end - start\n",
    "print(\"test time:\", test_time)"
   ]
  },
  {
   "cell_type": "code",
   "execution_count": 31,
   "metadata": {},
   "outputs": [
    {
     "name": "stdout",
     "output_type": "stream",
     "text": [
      "train time: 657.5475723743439\n",
      "accuracy: Predictions have an accuracy of 94.32%.\n",
      "test time: 257.3622679710388\n"
     ]
    }
   ],
   "source": [
    "# 使用支持向量机kernel=linear\n",
    "from sklearn.metrics import accuracy_score\n",
    "from time import time\n",
    "from sklearn.svm import SVC\n",
    "clf_svc = SVC(kernel='linear',random_state=0)\n",
    "\n",
    "start = time()\n",
    "clf_svc.fit(X_train, y_train)\n",
    "end = time()\n",
    "train_time = end - start\n",
    "print('train time:', train_time)\n",
    "\n",
    "def accuracy_score(truth, pred):\n",
    "    \"\"\" 返回 pred 相对于 truth 的准确率 \"\"\"\n",
    "    # 确保预测的数量与结果的数量一致\n",
    "    if len(truth) == len(pred): \n",
    "        # 计算预测准确率（百分比）\n",
    "        n = 0\n",
    "        for i in range(len(truth)):\n",
    "            if truth[i] == pred[i]:\n",
    "                n += 1\n",
    "        return \"Predictions have an accuracy of {:.2f}%.\".format(n / len(truth) *100)\n",
    "    else:\n",
    "        return \"Number of predictions does not match number of outcomes!\"\n",
    "\n",
    "start = time()\n",
    "y_pred = clf_svc.predict(X_test)\n",
    "print(\"accuracy:\", accuracy_score(y_test, y_pred))\n",
    "end = time()\n",
    "test_time = end - start\n",
    "print(\"test time:\", test_time)\n",
    "\n",
    "#start = time()\n",
    "#y_pred3 = clf_svc.predict(X_test)\n",
    "#print('accuracy:', accuracy_score(y_test, y_pred3))\n",
    "#end = time()\n",
    "#test_time = end - start\n",
    "#print(\"test time:\", test_time)"
   ]
  },
  {
   "cell_type": "code",
   "execution_count": 27,
   "metadata": {},
   "outputs": [
    {
     "name": "stdout",
     "output_type": "stream",
     "text": [
      "train time: 1110.5626447200775\n",
      "accuracy: Predictions have an accuracy of 4.32%.\n",
      "test time: 139.51490569114685\n"
     ]
    }
   ],
   "source": [
    "# 使用支持向量机kernel=rbf\n",
    "from sklearn.metrics import accuracy_score\n",
    "from time import time\n",
    "from sklearn.svm import SVC\n",
    "clf_svc = SVC(kernel='rbf',random_state=0)\n",
    "\n",
    "start = time()\n",
    "clf_svc.fit(X_train, y_train)\n",
    "end = time()\n",
    "train_time = end - start\n",
    "print('train time:', train_time)\n",
    "\n",
    "def accuracy_score(truth, pred):\n",
    "    \"\"\" 返回 pred 相对于 truth 的准确率 \"\"\"\n",
    "    # 确保预测的数量与结果的数量一致\n",
    "    if len(truth) == len(pred): \n",
    "        # 计算预测准确率（百分比）\n",
    "        n = 0\n",
    "        for i in range(len(truth)):\n",
    "            if truth[i] == pred[i]:\n",
    "                n += 1\n",
    "        return \"Predictions have an accuracy of {:.2f}%.\".format(n / len(truth) *100)\n",
    "    else:\n",
    "        return \"Number of predictions does not match number of outcomes!\"\n",
    "\n",
    "start = time()\n",
    "y_pred = clf_svc.predict(X_test)\n",
    "print(\"accuracy:\", accuracy_score(y_test, y_pred))\n",
    "end = time()\n",
    "test_time = end - start\n",
    "print(\"test time:\", test_time)\n",
    "\n",
    "#start = time()\n",
    "#y_pred3 = clf_svc.predict(X_test)\n",
    "#print('accuracy:', accuracy_score(y_test, y_pred3))\n",
    "#end = time()\n",
    "#test_time = end - start\n",
    "#print(\"test time:\", test_time)"
   ]
  },
  {
   "cell_type": "code",
   "execution_count": 32,
   "metadata": {},
   "outputs": [
    {
     "name": "stdout",
     "output_type": "stream",
     "text": [
      "train time: 1176.7232239246368\n",
      "accuracy: Predictions have an accuracy of 4.50%.\n",
      "test time: 250.53646993637085\n"
     ]
    }
   ],
   "source": [
    "# 使用支持向量机kernel=poly\n",
    "from sklearn.metrics import accuracy_score\n",
    "from time import time\n",
    "from sklearn.svm import SVC\n",
    "clf_svc = SVC(kernel='poly',random_state=0)\n",
    "\n",
    "start = time()\n",
    "clf_svc.fit(X_train, y_train)\n",
    "end = time()\n",
    "train_time = end - start\n",
    "print('train time:', train_time)\n",
    "\n",
    "def accuracy_score(truth, pred):\n",
    "    \"\"\" 返回 pred 相对于 truth 的准确率 \"\"\"\n",
    "    # 确保预测的数量与结果的数量一致\n",
    "    if len(truth) == len(pred): \n",
    "        # 计算预测准确率（百分比）\n",
    "        n = 0\n",
    "        for i in range(len(truth)):\n",
    "            if truth[i] == pred[i]:\n",
    "                n += 1\n",
    "        return \"Predictions have an accuracy of {:.2f}%.\".format(n / len(truth) *100)\n",
    "    else:\n",
    "        return \"Number of predictions does not match number of outcomes!\"\n",
    "\n",
    "start = time()\n",
    "y_pred = clf_svc.predict(X_test)\n",
    "print(\"accuracy:\", accuracy_score(y_test, y_pred))\n",
    "end = time()\n",
    "test_time = end - start\n",
    "print(\"test time:\", test_time)\n",
    "\n",
    "#start = time()\n",
    "#y_pred3 = clf_svc.predict(X_test)\n",
    "#print('accuracy:', accuracy_score(y_test, y_pred3))\n",
    "#end = time()\n",
    "#test_time = end - start\n",
    "#print(\"test time:\", test_time)"
   ]
  },
  {
   "cell_type": "code",
   "execution_count": 33,
   "metadata": {},
   "outputs": [
    {
     "data": {
      "image/png": "[encoded data removed]",
      "text/plain": [
       "<Figure size 432x288 with 1 Axes>"
      ]
     },
     "metadata": {},
     "output_type": "display_data"
    }
   ],
   "source": [
    "# 学习曲线Learning Curve\n",
    "# 验证曲线validation Curve\n",
    "from sklearn.cross_validation import train_test_split\n",
    "import matplotlib.pyplot as plt\n",
    "from sklearn.learning_curve import learning_curve\n",
    "from sklearn.learning_curve import validation_curve\n",
    "\n",
    "# 学习曲线\n",
    "train_sizes,train_scores,test_scores=learning_curve(estimator=SVC(kernel='linear',random_state=0),X=X_train,y=y_train,train_sizes=np.linspace(0.1,1.0,5),cv=5,n_jobs=1)\n",
    "\n",
    "# 统计结果\n",
    "train_mean= np.mean(train_scores,axis=1)\n",
    "train_std = np.std(train_scores,axis=1)\n",
    "test_mean =np.mean(test_scores,axis=1)\n",
    "test_std=np.std(test_scores,axis=1)\n",
    "\n",
    "# 绘制效果\n",
    "plt.plot(train_sizes,train_mean,color='blue',marker='o',markersize=5,label='training accuracy')\n",
    "plt.fill_between(train_sizes,train_mean+train_std,train_mean-train_std,alpha=0.15,color='blue')\n",
    "plt.plot(train_sizes,test_mean,color='green',linestyle='--',marker='s',markersize=5,label='test accuracy')\n",
    "plt.fill_between(train_sizes,test_mean+test_std,test_mean-test_std,alpha=0.15,color='green')\n",
    "plt.grid()\n",
    "plt.xlabel('Number of training samples')\n",
    "plt.ylabel('Accuracy')\n",
    "plt.legend(loc='lower right')\n",
    "plt.ylim([0.8,1.0])\n",
    "plt.show()"
   ]
  },
  {
   "cell_type": "code",
   "execution_count": null,
   "metadata": {
    "collapsed": true
   },
   "outputs": [],
   "source": []
  }
 ],
 "metadata": {
  "kernelspec": {
   "display_name": "Python 3",
   "language": "python",
   "name": "python36"
  },
  "language_info": {
   "codemirror_mode": {
    "name": "ipython",
    "version": 3
   },
   "file_extension": ".py",
   "mimetype": "text/x-python",
   "name": "python",
   "nbconvert_exporter": "python",
   "pygments_lexer": "ipython3",
   "version": "3.6.4"
  }
 },
 "nbformat": 4,
 "nbformat_minor": 2
}
